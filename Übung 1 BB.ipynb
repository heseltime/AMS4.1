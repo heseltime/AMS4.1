{
 "cells": [
  {
   "cell_type": "markdown",
   "id": "0e381b73",
   "metadata": {},
   "source": [
    "# Python Tutorial Notebook"
   ]
  },
  {
   "cell_type": "markdown",
   "id": "0d6623dc",
   "metadata": {},
   "source": [
    "### Cells in Notebooks"
   ]
  },
  {
   "cell_type": "code",
   "execution_count": 2,
   "id": "4d7a7d2e",
   "metadata": {
    "scrolled": true
   },
   "outputs": [
    {
     "data": {
      "text/plain": [
       "42"
      ]
     },
     "execution_count": 2,
     "metadata": {},
     "output_type": "execute_result"
    }
   ],
   "source": [
    "40 + 2"
   ]
  },
  {
   "cell_type": "markdown",
   "id": "28495f65",
   "metadata": {},
   "source": [
    "### Variables"
   ]
  },
  {
   "cell_type": "code",
   "execution_count": 3,
   "id": "fef3b659",
   "metadata": {},
   "outputs": [
    {
     "name": "stdout",
     "output_type": "stream",
     "text": [
      "40 2 string 0.05 3.14 3.14\n",
      "3.1440\n"
     ]
    }
   ],
   "source": [
    "a = 40\n",
    "b = 2\n",
    "c = \"string\" # single-quote is also possible 'string', this is a comment btw\n",
    "d = 5e-02\n",
    "e = 3.14\n",
    "f = str(3.14) # string representation of 3.14\n",
    "g = True\n",
    "print(a, b, c, d, e, f)\n",
    "#print (f + 40) # this would fail as 'f' is a string and 'a' is a number\n",
    "print(f + str(a))"
   ]
  },
  {
   "cell_type": "code",
   "execution_count": 4,
   "id": "c5c68699",
   "metadata": {},
   "outputs": [
    {
     "name": "stdout",
     "output_type": "stream",
     "text": [
      "a + b = 42\n",
      "a+b=42\n",
      "g or False = True\n",
      "g and True = True\n",
      "not g = False\n"
     ]
    }
   ],
   "source": [
    "print(\"a + b =\", a+b)\n",
    "print(\"a+b=\"+str(a+b))\n",
    "print(\"g or False =\", g or False)\n",
    "print(\"g and True =\", g and True)\n",
    "print(\"not g =\", not g)"
   ]
  },
  {
   "cell_type": "code",
   "execution_count": 5,
   "id": "8dc0447e",
   "metadata": {},
   "outputs": [
    {
     "data": {
      "text/plain": [
       "'r'"
      ]
     },
     "execution_count": 5,
     "metadata": {},
     "output_type": "execute_result"
    }
   ],
   "source": [
    "c[2] # strings are immutable sequences of unicode characters, e.g., here third character in the string"
   ]
  },
  {
   "cell_type": "markdown",
   "id": "c8f8e8ba",
   "metadata": {},
   "source": [
    "### Constants"
   ]
  },
  {
   "cell_type": "code",
   "execution_count": 6,
   "id": "8e228298",
   "metadata": {},
   "outputs": [],
   "source": [
    "import math"
   ]
  },
  {
   "cell_type": "code",
   "execution_count": 7,
   "id": "3e279988",
   "metadata": {},
   "outputs": [
    {
     "name": "stdout",
     "output_type": "stream",
     "text": [
      "3.141592653589793\n",
      "2.718281828459045\n"
     ]
    }
   ],
   "source": [
    "print(math.pi)\n",
    "print(math.e)"
   ]
  },
  {
   "cell_type": "markdown",
   "id": "f98d7dff",
   "metadata": {},
   "source": [
    "### Sequences / Collections"
   ]
  },
  {
   "cell_type": "code",
   "execution_count": 8,
   "id": "0198f9d6",
   "metadata": {},
   "outputs": [
    {
     "name": "stdout",
     "output_type": "stream",
     "text": [
      "(40, 2)\n"
     ]
    }
   ],
   "source": [
    "tup = (a, b)\n",
    "print(tup)"
   ]
  },
  {
   "cell_type": "code",
   "execution_count": 9,
   "id": "4e16257b",
   "metadata": {},
   "outputs": [
    {
     "data": {
      "text/plain": [
       "2"
      ]
     },
     "execution_count": 9,
     "metadata": {},
     "output_type": "execute_result"
    }
   ],
   "source": [
    "tup[1] # second element in a tuple, indexing is 0-based"
   ]
  },
  {
   "cell_type": "code",
   "execution_count": 10,
   "id": "ca3effdd",
   "metadata": {},
   "outputs": [
    {
     "name": "stdout",
     "output_type": "stream",
     "text": [
      "[1, 2, 3]\n",
      "1\n"
     ]
    }
   ],
   "source": [
    "mylist = [ 1, 2, 3 ]\n",
    "print(mylist)\n",
    "print(mylist[0])"
   ]
  },
  {
   "cell_type": "code",
   "execution_count": 11,
   "id": "6771e7f7",
   "metadata": {},
   "outputs": [
    {
     "name": "stdout",
     "output_type": "stream",
     "text": [
      "{1, 2, 3}\n"
     ]
    }
   ],
   "source": [
    "myset = { 1, 2, 3 }\n",
    "print(myset)"
   ]
  },
  {
   "cell_type": "code",
   "execution_count": 12,
   "id": "3d1a6c55",
   "metadata": {},
   "outputs": [
    {
     "name": "stdout",
     "output_type": "stream",
     "text": [
      "{'a': 1, 'b': 2, 'c': 3}\n",
      "2\n"
     ]
    }
   ],
   "source": [
    "dictionary = {\"a\": 1, \"b\": 2, \"c\": 3}\n",
    "print(dictionary)\n",
    "print(dictionary[\"b\"])"
   ]
  },
  {
   "cell_type": "code",
   "execution_count": 13,
   "id": "5da758e7",
   "metadata": {},
   "outputs": [
    {
     "name": "stdout",
     "output_type": "stream",
     "text": [
      "mylist + mylist = [1, 2, 3, 1, 2, 3]\n",
      "mylist * 3 = [1, 2, 3, 1, 2, 3, 1, 2, 3]\n"
     ]
    }
   ],
   "source": [
    "# print(tup + mylist) # error\n",
    "print(\"mylist + mylist =\", mylist + mylist) # + is a concatenation operator for lists\n",
    "print(\"mylist * 3 =\", mylist * 3) # same as 3 times plus (concatenation)\n",
    "# print(dictionary + dictionary) # concatentation is not supported for set or dictionary (obviously)"
   ]
  },
  {
   "cell_type": "code",
   "execution_count": 14,
   "id": "122a735c",
   "metadata": {},
   "outputs": [
    {
     "name": "stdout",
     "output_type": "stream",
     "text": [
      "range(1, 10)\n",
      "[1, 2, 3, 4, 5, 6, 7, 8, 9]\n"
     ]
    }
   ],
   "source": [
    "longlist = range(1, 10) # range generates sequences of numbers in [min;max[\n",
    "print(longlist)\n",
    "longlist = list(range(1, 10)) # explicitely turn it into a list\n",
    "print(longlist)"
   ]
  },
  {
   "cell_type": "markdown",
   "id": "2b158859",
   "metadata": {},
   "source": [
    "### Query"
   ]
  },
  {
   "cell_type": "code",
   "execution_count": 15,
   "id": "c97fb6f1",
   "metadata": {},
   "outputs": [
    {
     "name": "stdout",
     "output_type": "stream",
     "text": [
      "False , True , False , False , True , False\n"
     ]
    }
   ],
   "source": [
    "print(1 in tup,\n",
    "40 in tup,\n",
    "1 not in mylist,\n",
    "4 in myset,\n",
    "\"a\" in dictionary,\n",
    "1 in dictionary,\n",
    "sep=\" , \") # separator for the output elements if multiple are given"
   ]
  },
  {
   "cell_type": "code",
   "execution_count": 16,
   "id": "c79d4c47",
   "metadata": {},
   "outputs": [
    {
     "name": "stdout",
     "output_type": "stream",
     "text": [
      "len(dictionary) = 3\n",
      "len(mylist) = 3\n",
      "min(mylist) = 1\n",
      "mylist.count(1) = 1\n"
     ]
    }
   ],
   "source": [
    "print(\"len(dictionary) =\", len(dictionary))\n",
    "print(\"len(mylist) =\", len(mylist))\n",
    "print(\"min(mylist) =\", min(mylist))\n",
    "print(\"mylist.count(1) =\", mylist.count(1)) # number of 1 in list"
   ]
  },
  {
   "cell_type": "code",
   "execution_count": 17,
   "id": "eaff8d89",
   "metadata": {},
   "outputs": [
    {
     "name": "stdout",
     "output_type": "stream",
     "text": [
      "mylist[0:2] = [1, 2]\n",
      "mylist[-1] = 3\n"
     ]
    }
   ],
   "source": [
    "print(\"mylist[0:2] =\", mylist[0:2]) # this is called slicing\n",
    "print(\"mylist[-1] =\", mylist[-1]) # 0 and -0 both are the first element, -1 is the last"
   ]
  },
  {
   "cell_type": "code",
   "execution_count": 18,
   "id": "bd6d3ad3",
   "metadata": {},
   "outputs": [
    {
     "name": "stdout",
     "output_type": "stream",
     "text": [
      "[3, 2, 1]\n"
     ]
    }
   ],
   "source": [
    "rev = reversed(mylist)\n",
    "print(list(rev)) # does not change mylist, but provides a new reversed list\n",
    "del rev # deletes the variable"
   ]
  },
  {
   "cell_type": "code",
   "execution_count": 19,
   "id": "5a2d9dd7",
   "metadata": {},
   "outputs": [
    {
     "name": "stdout",
     "output_type": "stream",
     "text": [
      "dict_values([1, 2, 3])\n",
      "dict_keys(['a', 'b', 'c'])\n",
      "dict_items([('a', 1), ('b', 2), ('c', 3)])\n",
      "dictionary.get(\"asdf\", -1) = -1\n"
     ]
    }
   ],
   "source": [
    "print(dictionary.values())\n",
    "print(dictionary.keys())\n",
    "print(dictionary.items())\n",
    "print('dictionary.get(\"asdf\", -1) =', dictionary.get(\"asdf\", -1)) # -1 is the default if key not found"
   ]
  },
  {
   "cell_type": "markdown",
   "id": "761cbf9c",
   "metadata": {},
   "source": [
    "### Manipulation"
   ]
  },
  {
   "cell_type": "code",
   "execution_count": 20,
   "id": "2ce0027c",
   "metadata": {},
   "outputs": [
    {
     "name": "stdout",
     "output_type": "stream",
     "text": [
      "[1, 2, 3, 4, 'str']\n"
     ]
    }
   ],
   "source": [
    "mylist.append(4)\n",
    "mylist.append(\"str\")\n",
    "print(mylist)"
   ]
  },
  {
   "cell_type": "code",
   "execution_count": 21,
   "id": "96904293",
   "metadata": {},
   "outputs": [
    {
     "name": "stdout",
     "output_type": "stream",
     "text": [
      "[1, 2, 3, 4, 'str', [...]]\n",
      "2\n",
      "[1, 2, 3, 4, 'str']\n"
     ]
    }
   ],
   "source": [
    "mylist.append(mylist) # mylist is added as an element of list\n",
    "print(mylist)\n",
    "print(mylist[-1][1])\n",
    "mylist.pop()\n",
    "print(mylist)"
   ]
  },
  {
   "cell_type": "code",
   "execution_count": 22,
   "id": "414d8aa0",
   "metadata": {},
   "outputs": [
    {
     "name": "stdout",
     "output_type": "stream",
     "text": [
      "[]\n",
      "[1, 2, 3, 4, 5, 6, 7, 8, 9]\n",
      "[1, 2, 3, 4, 1, 2, 3, 4, 5, 6, 7, 8, 9, 7, 8, 9]\n"
     ]
    }
   ],
   "source": [
    "mylist.clear()\n",
    "print(mylist)\n",
    "mylist[:] = range(1,10)\n",
    "print(mylist)\n",
    "mylist[4:6] = range(1, 10)\n",
    "print(mylist)\n",
    "mylist = [1, 2, 3]\n",
    "# Refer to https://docs.python.org/3/library/stdtypes.html#mutable-sequence-types for more operations"
   ]
  },
  {
   "cell_type": "code",
   "execution_count": 23,
   "id": "9cf75671",
   "metadata": {},
   "outputs": [
    {
     "name": "stdout",
     "output_type": "stream",
     "text": [
      "{'a': 1, 'b': 2, 'c': 3, 'f': 5}\n"
     ]
    }
   ],
   "source": [
    "dictionary[\"f\"] = 5\n",
    "print(dictionary)"
   ]
  },
  {
   "cell_type": "code",
   "execution_count": 24,
   "id": "aef0dbb9",
   "metadata": {},
   "outputs": [
    {
     "name": "stdout",
     "output_type": "stream",
     "text": [
      "dictionary.pop(\"c\") = 3\n",
      "1st after tmp.pop(\"c\"): {'a': 1, 'b': 2, 'f': 5}\n",
      "2nd after tmp.pop(\"c\"): {'a': 1, 'b': 2, 'f': 5, 'c': 3}\n"
     ]
    }
   ],
   "source": [
    "print('dictionary.pop(\"c\") =', dictionary.pop(\"c\"))\n",
    "dictionary[\"c\"] = 3 # readd c\n",
    "tmp = dictionary # the same instance will be manipulated\n",
    "tmp.pop(\"c\")\n",
    "print('1st after tmp.pop(\"c\"):', dictionary)\n",
    "dictionary[\"c\"] = 3\n",
    "tmp = dictionary.copy() # performs a shallow-copy\n",
    "tmp.pop(\"c\")\n",
    "print('2nd after tmp.pop(\"c\"):', dictionary)\n",
    "# Refer to https://docs.python.org/3/library/stdtypes.html#mapping-types-dict for more operations"
   ]
  },
  {
   "cell_type": "markdown",
   "id": "4980a469",
   "metadata": {},
   "source": [
    "### Loops"
   ]
  },
  {
   "cell_type": "code",
   "execution_count": 25,
   "id": "8510794b",
   "metadata": {},
   "outputs": [
    {
     "name": "stdout",
     "output_type": "stream",
     "text": [
      "1,2,3,4,5,6,7,8,9,"
     ]
    }
   ],
   "source": [
    "for i in range(1, 10):\n",
    "    print(i, end=',')"
   ]
  },
  {
   "cell_type": "code",
   "execution_count": 26,
   "id": "e1b4c5e0",
   "metadata": {},
   "outputs": [
    {
     "name": "stdout",
     "output_type": "stream",
     "text": [
      "1,2,3,4,5,6,"
     ]
    }
   ],
   "source": [
    "for i in range(1, 10):\n",
    "    print(i, end=',')\n",
    "    if i > 5: break"
   ]
  },
  {
   "cell_type": "code",
   "execution_count": 27,
   "id": "b8dae065",
   "metadata": {},
   "outputs": [
    {
     "name": "stdout",
     "output_type": "stream",
     "text": [
      "1,2,3,#4,#5,#6,#"
     ]
    }
   ],
   "source": [
    "for i in range(1, 10):\n",
    "    print(i, end=',')\n",
    "    if i < 3:\n",
    "        continue\n",
    "    print(\"#\", end='')\n",
    "    if i > 5: break"
   ]
  },
  {
   "cell_type": "code",
   "execution_count": 28,
   "id": "56c13b80",
   "metadata": {},
   "outputs": [
    {
     "name": "stdout",
     "output_type": "stream",
     "text": [
      "1,2,3,#4,#5,#6,#"
     ]
    }
   ],
   "source": [
    "for i in range(1, 10):\n",
    "    print(i, end=',')\n",
    "    if i < 3:\n",
    "        continue\n",
    "    print(\"#\", end='')\n",
    "    if i > 5: break\n",
    "else:\n",
    "    print(\"\\nfinished\") # remove the break statement and try again"
   ]
  },
  {
   "cell_type": "code",
   "execution_count": 29,
   "id": "17ec88fb",
   "metadata": {},
   "outputs": [
    {
     "name": "stdout",
     "output_type": "stream",
     "text": [
      "1,2,3,4,5,6,7,8,9,finished\n"
     ]
    }
   ],
   "source": [
    "count = 1\n",
    "while count < 10:\n",
    "    print(count, end=\",\")\n",
    "    count += 1\n",
    "else: print(\"finished\") # if you add a break, else will be supressed\n",
    "del count"
   ]
  },
  {
   "cell_type": "markdown",
   "id": "3e339b82",
   "metadata": {},
   "source": [
    "### Comprehensions for lists, sets, and dictionaries"
   ]
  },
  {
   "cell_type": "code",
   "execution_count": 30,
   "id": "4e05c588",
   "metadata": {},
   "outputs": [
    {
     "name": "stdout",
     "output_type": "stream",
     "text": [
      "[1, 2, 3, 4, 5, 6, 7, 8, 9]\n"
     ]
    }
   ],
   "source": [
    "alist = [x for x in longlist]\n",
    "print(alist)"
   ]
  },
  {
   "cell_type": "code",
   "execution_count": 31,
   "id": "65ba9ab1",
   "metadata": {},
   "outputs": [
    {
     "name": "stdout",
     "output_type": "stream",
     "text": [
      "[4, 5, 6, 7, 8, 9]\n"
     ]
    }
   ],
   "source": [
    "alist = [x for x in longlist if x > 3]\n",
    "print(alist)"
   ]
  },
  {
   "cell_type": "code",
   "execution_count": 32,
   "id": "1b7dec9c",
   "metadata": {},
   "outputs": [
    {
     "name": "stdout",
     "output_type": "stream",
     "text": [
      "[16, 25, 36, 49, 64, 81]\n"
     ]
    }
   ],
   "source": [
    "alist = [x**2 for x in longlist if x > 3]\n",
    "print(alist)"
   ]
  },
  {
   "cell_type": "code",
   "execution_count": 33,
   "id": "7b1fbbc0",
   "metadata": {},
   "outputs": [
    {
     "name": "stdout",
     "output_type": "stream",
     "text": [
      "[1, 2, 3, 1, 2, 3, 1, 2, 3]\n",
      "{1, 4, 9}\n"
     ]
    }
   ],
   "source": [
    "alist = mylist * 3\n",
    "print(alist)\n",
    "aset = {x**2 for x in alist}\n",
    "print(aset)"
   ]
  },
  {
   "cell_type": "code",
   "execution_count": 34,
   "id": "7291549f",
   "metadata": {},
   "outputs": [
    {
     "name": "stdout",
     "output_type": "stream",
     "text": [
      "{'a': 1, 'b': 4, 'f': 25, 'c': 9}\n"
     ]
    }
   ],
   "source": [
    "adict = {key:value**2 for (key,value) in dictionary.items()}\n",
    "print(adict)"
   ]
  },
  {
   "cell_type": "code",
   "execution_count": 39,
   "id": "7caa7040",
   "metadata": {},
   "outputs": [
    {
     "name": "stdout",
     "output_type": "stream",
     "text": [
      "1\n"
     ]
    }
   ],
   "source": [
    "adict = {key:value**2 for (key,value) in dictionary.items() if key in {'a', 'b'}}\n",
    "print(adict['a'])"
   ]
  },
  {
   "cell_type": "markdown",
   "id": "f98d7dff",
   "metadata": {},
   "source": [
    "## Funktionen und Methoden"
   ]
  },
  {
   "cell_type": "code",
   "execution_count": null,
   "id": "79416b8b",
   "metadata": {},
   "outputs": [],
   "source": [
    "def my_super_fancy_function():\n",
    "    return 42"
   ]
  },
  {
   "cell_type": "code",
   "execution_count": null,
   "id": "0e08e847",
   "metadata": {},
   "outputs": [
    {
     "data": {
      "text/plain": [
       "42"
      ]
     },
     "execution_count": 36,
     "metadata": {},
     "output_type": "execute_result"
    }
   ],
   "source": [
    "my_super_fancy_function()"
   ]
  },
  {
   "cell_type": "markdown",
   "id": "5f815a92",
   "metadata": {},
   "source": [
    "Parameters"
   ]
  },
  {
   "cell_type": "code",
   "execution_count": null,
   "id": "f5eee6c6",
   "metadata": {},
   "outputs": [],
   "source": [
    "def my_slightly_more_complicated_super_fancy_function(a,b):\n",
    "    return (a+b)"
   ]
  },
  {
   "cell_type": "code",
   "execution_count": null,
   "id": "2f30992f",
   "metadata": {},
   "outputs": [
    {
     "data": {
      "text/plain": [
       "42"
      ]
     },
     "execution_count": 38,
     "metadata": {},
     "output_type": "execute_result"
    }
   ],
   "source": [
    "my_slightly_more_complicated_super_fancy_function(a,b)"
   ]
  },
  {
   "cell_type": "code",
   "execution_count": null,
   "id": "a47555cf",
   "metadata": {},
   "outputs": [
    {
     "data": {
      "text/plain": [
       "42"
      ]
     },
     "execution_count": 39,
     "metadata": {},
     "output_type": "execute_result"
    }
   ],
   "source": [
    "my_slightly_more_complicated_super_fancy_function(b = 39,a = 3)"
   ]
  },
  {
   "cell_type": "markdown",
   "id": "d3d97865",
   "metadata": {},
   "source": [
    "Multi-Results"
   ]
  },
  {
   "cell_type": "code",
   "execution_count": null,
   "id": "9e43d2eb",
   "metadata": {},
   "outputs": [],
   "source": [
    "def multi_return(a,b):\n",
    "    s = a+b\n",
    "    if s == 42:\n",
    "        return(s, 'I am happy')\n",
    "    return (s, 'I don\\'t like you')"
   ]
  },
  {
   "cell_type": "code",
   "execution_count": null,
   "id": "9391964a",
   "metadata": {},
   "outputs": [
    {
     "name": "stdout",
     "output_type": "stream",
     "text": [
      "(41, \"I don't like you\")\n",
      "41\n",
      "I don't like you\n",
      "41\n",
      "I don't like you\n"
     ]
    }
   ],
   "source": [
    "tuple = multi_return(40,1)\n",
    "print(tuple)\n",
    "print(tuple[0])\n",
    "print(tuple[1])\n",
    "# Using Tuple deconstruction\n",
    "(result, sentiment) = multi_return(40,1)\n",
    "print(result)\n",
    "print(sentiment)"
   ]
  },
  {
   "cell_type": "markdown",
   "id": "6fbdba09",
   "metadata": {},
   "source": [
    "Inline If-else"
   ]
  },
  {
   "cell_type": "code",
   "execution_count": null,
   "id": "42cbc53c",
   "metadata": {},
   "outputs": [],
   "source": [
    "def multi_return(a,b):\n",
    "    s = a+b\n",
    "    return (s, 'I am happy' if s == 42 else 'I don\\'t like you')# bedingung?v1:v2"
   ]
  },
  {
   "cell_type": "code",
   "execution_count": null,
   "id": "05034948",
   "metadata": {
    "scrolled": false
   },
   "outputs": [
    {
     "name": "stdout",
     "output_type": "stream",
     "text": [
      "41\n",
      "I don't like you\n"
     ]
    }
   ],
   "source": [
    "(result, sentiment) = multi_return(40,1)\n",
    "print(result)\n",
    "print(sentiment)"
   ]
  },
  {
   "cell_type": "markdown",
   "id": "80d8a0f4",
   "metadata": {},
   "source": [
    "## Numpy, Lists and Matrices"
   ]
  },
  {
   "cell_type": "markdown",
   "id": "06a20b50",
   "metadata": {},
   "source": [
    "Import Libraries"
   ]
  },
  {
   "cell_type": "code",
   "execution_count": null,
   "id": "b8a2659b",
   "metadata": {},
   "outputs": [],
   "source": [
    "import numpy as np"
   ]
  },
  {
   "cell_type": "code",
   "execution_count": null,
   "id": "f917a401",
   "metadata": {},
   "outputs": [],
   "source": [
    "myfancyVec = np.array([])"
   ]
  },
  {
   "cell_type": "code",
   "execution_count": null,
   "id": "d87a453a",
   "metadata": {},
   "outputs": [],
   "source": [
    "vec = np.array([1, 2, 3])\n",
    "mat = np.array([[1, 2, 3],\n",
    "                [4, 5, 6],\n",
    "                [7, 8, 9]])"
   ]
  },
  {
   "cell_type": "code",
   "execution_count": null,
   "id": "6fc23421",
   "metadata": {},
   "outputs": [],
   "source": [
    "rowvec = np.array([[1, 2, 3]])\n",
    "colvec = np.array([[1], [2], [3]])"
   ]
  },
  {
   "cell_type": "code",
   "execution_count": null,
   "id": "4a9614a8",
   "metadata": {},
   "outputs": [
    {
     "name": "stdout",
     "output_type": "stream",
     "text": [
      "(3,)\n",
      "(1, 3)\n",
      "(3, 1)\n",
      "(2, 2, 2)\n",
      "(1, 3, 2)\n"
     ]
    }
   ],
   "source": [
    "print(np.shape(vec))\n",
    "\n",
    "print(np.shape(rowvec))\n",
    "\n",
    "print(np.shape(colvec))\n",
    "\n",
    "print(np.shape(np.array([[[1, 2], [2, 3]], [[4, 5], [5, 6]]])))\n",
    "\n",
    "print(np.shape(np.array([[[1, 2], [3, 4], [5, 6]]])))\n"
   ]
  },
  {
   "cell_type": "code",
   "execution_count": null,
   "id": "b0df9348",
   "metadata": {},
   "outputs": [
    {
     "data": {
      "text/plain": [
       "array([0., 0., 0.])"
      ]
     },
     "execution_count": 49,
     "metadata": {},
     "output_type": "execute_result"
    }
   ],
   "source": [
    "np.zeros((3,))"
   ]
  },
  {
   "cell_type": "code",
   "execution_count": null,
   "id": "e2aeac96",
   "metadata": {},
   "outputs": [
    {
     "data": {
      "text/plain": [
       "array([[0., 0., 0.],\n",
       "       [0., 0., 0.]])"
      ]
     },
     "execution_count": 50,
     "metadata": {},
     "output_type": "execute_result"
    }
   ],
   "source": [
    "np.zeros((2, 3))"
   ]
  },
  {
   "cell_type": "code",
   "execution_count": null,
   "id": "cdfb5042",
   "metadata": {},
   "outputs": [
    {
     "data": {
      "text/plain": [
       "array([[1., 1.],\n",
       "       [1., 1.],\n",
       "       [1., 1.]])"
      ]
     },
     "execution_count": 51,
     "metadata": {},
     "output_type": "execute_result"
    }
   ],
   "source": [
    "np.ones((3, 2))"
   ]
  },
  {
   "cell_type": "code",
   "execution_count": null,
   "id": "2a80deb7",
   "metadata": {},
   "outputs": [
    {
     "data": {
      "text/plain": [
       "array([[ True,  True,  True]])"
      ]
     },
     "execution_count": 52,
     "metadata": {},
     "output_type": "execute_result"
    }
   ],
   "source": [
    "rowvec == rowvec"
   ]
  },
  {
   "cell_type": "code",
   "execution_count": null,
   "id": "a3911da4",
   "metadata": {},
   "outputs": [
    {
     "data": {
      "text/plain": [
       "array([[ True,  True,  True]])"
      ]
     },
     "execution_count": 53,
     "metadata": {},
     "output_type": "execute_result"
    }
   ],
   "source": [
    "rowvec == colvec.T #transpose"
   ]
  },
  {
   "cell_type": "markdown",
   "id": "1c0be742",
   "metadata": {},
   "source": [
    "Addition in 5 flavours"
   ]
  },
  {
   "cell_type": "code",
   "execution_count": null,
   "id": "692a1375",
   "metadata": {},
   "outputs": [
    {
     "name": "stdout",
     "output_type": "stream",
     "text": [
      "[1 2 3]\n",
      "[2 3 4]\n",
      "[2 4 6]\n",
      "[[ 2  4  6]\n",
      " [ 5  7  9]\n",
      " [ 8 10 12]]\n",
      "[[ 2  4  6]\n",
      " [ 5  7  9]\n",
      " [ 8 10 12]]\n",
      "[[ 2  4  6]\n",
      " [ 8 10 12]\n",
      " [14 16 18]]\n"
     ]
    }
   ],
   "source": [
    "print(vec)\n",
    "print(vec+1)\n",
    "print(vec+vec)\n",
    "print(vec+mat)\n",
    "print(mat+vec)\n",
    "print(mat+mat)"
   ]
  },
  {
   "cell_type": "code",
   "execution_count": null,
   "id": "40a6fb76",
   "metadata": {},
   "outputs": [
    {
     "name": "stdout",
     "output_type": "stream",
     "text": [
      "[1.5 3.  4.5]\n",
      "[1 4 9]\n",
      "[[ 1  4  9]\n",
      " [ 4 10 18]\n",
      " [ 7 16 27]]\n",
      "[[ 1  4  9]\n",
      " [ 4 10 18]\n",
      " [ 7 16 27]]\n",
      "[[ 1  4  9]\n",
      " [16 25 36]\n",
      " [49 64 81]]\n"
     ]
    }
   ],
   "source": [
    "print(vec*1.5)\n",
    "print(vec*vec)\n",
    "print(vec*mat)\n",
    "print(mat*vec)\n",
    "print(mat*mat)"
   ]
  },
  {
   "cell_type": "code",
   "execution_count": null,
   "id": "20b4f682",
   "metadata": {},
   "outputs": [
    {
     "data": {
      "text/plain": [
       "array([[ 30,  36,  42],\n",
       "       [ 66,  81,  96],\n",
       "       [102, 126, 150]])"
      ]
     },
     "execution_count": 56,
     "metadata": {},
     "output_type": "execute_result"
    }
   ],
   "source": [
    "mat @ mat"
   ]
  },
  {
   "cell_type": "code",
   "execution_count": null,
   "id": "a2a23ee3",
   "metadata": {},
   "outputs": [
    {
     "data": {
      "text/plain": [
       "1"
      ]
     },
     "execution_count": 57,
     "metadata": {},
     "output_type": "execute_result"
    }
   ],
   "source": [
    "mat[0,0]"
   ]
  },
  {
   "cell_type": "code",
   "execution_count": null,
   "id": "cedaf6ad",
   "metadata": {},
   "outputs": [
    {
     "name": "stdout",
     "output_type": "stream",
     "text": [
      "[1 2 3]\n"
     ]
    }
   ],
   "source": [
    "print(mat[0,:])"
   ]
  },
  {
   "cell_type": "code",
   "execution_count": null,
   "id": "a6ccbd79",
   "metadata": {},
   "outputs": [
    {
     "data": {
      "text/plain": [
       "9"
      ]
     },
     "execution_count": 59,
     "metadata": {},
     "output_type": "execute_result"
    }
   ],
   "source": [
    "mat[-1,-1]"
   ]
  },
  {
   "cell_type": "code",
   "execution_count": null,
   "id": "d2a44e4d",
   "metadata": {},
   "outputs": [
    {
     "data": {
      "text/plain": [
       "array([2, 5, 8])"
      ]
     },
     "execution_count": 60,
     "metadata": {},
     "output_type": "execute_result"
    }
   ],
   "source": [
    "mat[:,-2]"
   ]
  },
  {
   "cell_type": "code",
   "execution_count": null,
   "id": "fb99490c",
   "metadata": {},
   "outputs": [],
   "source": [
    "mat[:,-2] = 1"
   ]
  },
  {
   "cell_type": "code",
   "execution_count": null,
   "id": "10f5ea78",
   "metadata": {},
   "outputs": [
    {
     "data": {
      "text/plain": [
       "array([[1, 1, 3],\n",
       "       [4, 1, 6],\n",
       "       [7, 1, 9]])"
      ]
     },
     "execution_count": 62,
     "metadata": {},
     "output_type": "execute_result"
    }
   ],
   "source": [
    "mat"
   ]
  },
  {
   "cell_type": "code",
   "execution_count": null,
   "id": "f5f36aad",
   "metadata": {},
   "outputs": [
    {
     "name": "stdout",
     "output_type": "stream",
     "text": [
      "33\n",
      "[12  3 18]\n",
      "[ 5 11 17]\n",
      "[[ 5]\n",
      " [11]\n",
      " [17]]\n"
     ]
    }
   ],
   "source": [
    "print(mat.sum())\n",
    "print(mat.sum(axis =0))\n",
    "print(mat.sum(axis =1))\n",
    "print(mat.sum(axis =1, keepdims = True))"
   ]
  },
  {
   "cell_type": "markdown",
   "id": "438066c1",
   "metadata": {},
   "source": [
    "## Normalization"
   ]
  },
  {
   "cell_type": "code",
   "execution_count": null,
   "id": "6edc9a57",
   "metadata": {},
   "outputs": [
    {
     "data": {
      "text/plain": [
       "array([[0.2       , 0.09090909, 0.17647059],\n",
       "       [0.8       , 0.09090909, 0.35294118],\n",
       "       [1.4       , 0.09090909, 0.52941176]])"
      ]
     },
     "execution_count": 64,
     "metadata": {},
     "output_type": "execute_result"
    }
   ],
   "source": [
    "mat / mat.sum(axis = 1)"
   ]
  },
  {
   "cell_type": "code",
   "execution_count": null,
   "id": "e7146f85",
   "metadata": {},
   "outputs": [
    {
     "data": {
      "text/plain": [
       "array([[0.2       , 0.2       , 0.6       ],\n",
       "       [0.36363636, 0.09090909, 0.54545455],\n",
       "       [0.41176471, 0.05882353, 0.52941176]])"
      ]
     },
     "execution_count": 65,
     "metadata": {},
     "output_type": "execute_result"
    }
   ],
   "source": [
    "mat / mat.sum(axis = 1, keepdims = True)"
   ]
  },
  {
   "cell_type": "markdown",
   "id": "dd935c90",
   "metadata": {},
   "source": [
    "# Graphs"
   ]
  },
  {
   "cell_type": "code",
   "execution_count": null,
   "id": "dbff1c9f",
   "metadata": {},
   "outputs": [],
   "source": [
    "import networkx as nx"
   ]
  },
  {
   "cell_type": "code",
   "execution_count": null,
   "id": "08f6bf6c",
   "metadata": {
    "scrolled": true
   },
   "outputs": [
    {
     "data": {
      "image/png": "[encoded data removed]",
      "text/plain": [
       "<Figure size 432x288 with 1 Axes>"
      ]
     },
     "metadata": {},
     "output_type": "display_data"
    }
   ],
   "source": [
    "graph = nx.Graph([(1, 2), (3, 1), (2, 4)])\n",
    "nx.draw(graph)"
   ]
  },
  {
   "cell_type": "code",
   "execution_count": null,
   "id": "0082b14f",
   "metadata": {},
   "outputs": [
    {
     "data": {
      "image/png": "[encoded data removed]",
      "text/plain": [
       "<Figure size 432x288 with 1 Axes>"
      ]
     },
     "metadata": {},
     "output_type": "display_data"
    }
   ],
   "source": [
    "nx.draw(graph, edge_color='darkblue', width=2,\n",
    "    node_size=1000, node_color='orange', alpha=0.9, with_labels = True)\n",
    "# Refer to https://networkx.org/documentation/stable/reference/generated/networkx.drawing.nx_pylab.draw_networkx.html for more arguments"
   ]
  },
  {
   "cell_type": "code",
   "execution_count": null,
   "id": "3c1164e2",
   "metadata": {},
   "outputs": [
    {
     "data": {
      "image/png": "[encoded data removed]",
      "text/plain": [
       "<Figure size 432x288 with 1 Axes>"
      ]
     },
     "metadata": {},
     "output_type": "display_data"
    }
   ],
   "source": [
    "digraph = nx.DiGraph([(1, 2), (3, 1), (2, 4)])\n",
    "nx.draw(digraph, with_labels = True)"
   ]
  },
  {
   "cell_type": "code",
   "execution_count": null,
   "id": "6e718a97",
   "metadata": {},
   "outputs": [
    {
     "data": {
      "image/png": "[encoded data removed]",
      "text/plain": [
       "<Figure size 432x288 with 1 Axes>"
      ]
     },
     "metadata": {},
     "output_type": "display_data"
    }
   ],
   "source": [
    "graph.add_node(5)\n",
    "graph.add_edge(1, 5)\n",
    "graph.add_edges_from([(3, 5), (2, 5)])\n",
    "nx.draw(graph, with_labels=True)"
   ]
  },
  {
   "cell_type": "code",
   "execution_count": null,
   "id": "74bddbb7",
   "metadata": {},
   "outputs": [
    {
     "name": "stdout",
     "output_type": "stream",
     "text": [
      "1\n",
      "2\n",
      "3\n",
      "4\n",
      "5\n"
     ]
    }
   ],
   "source": [
    "for i in graph:\n",
    "    print(i)"
   ]
  },
  {
   "cell_type": "code",
   "execution_count": null,
   "id": "7a988f78",
   "metadata": {},
   "outputs": [
    {
     "data": {
      "text/plain": [
       "[1, 2, 3, 4, 5]"
      ]
     },
     "execution_count": 71,
     "metadata": {},
     "output_type": "execute_result"
    }
   ],
   "source": [
    "[i for i in graph]"
   ]
  },
  {
   "cell_type": "code",
   "execution_count": null,
   "id": "026cb3cf",
   "metadata": {},
   "outputs": [
    {
     "data": {
      "image/png": "[encoded data removed]",
      "text/plain": [
       "<Figure size 432x288 with 1 Axes>"
      ]
     },
     "metadata": {},
     "output_type": "display_data"
    }
   ],
   "source": [
    "G = nx.Graph()\n",
    "G.add_edge(1, 2, weight=3, myattribute = \"hallo\")\n",
    "G.add_edge(3, 1, weight=5)\n",
    "G.add_edge(2, 4, weight=1.5)\n",
    "nx.draw(G, with_labels=True)"
   ]
  },
  {
   "cell_type": "code",
   "execution_count": null,
   "id": "add8ad55",
   "metadata": {},
   "outputs": [
    {
     "data": {
      "text/plain": [
       "{(1, 2): Text(0.0670602734996314, 0.044746116881595646, '3'),\n",
       " (1, 3): Text(0.6257727960585311, 0.4183191482635307, '5'),\n",
       " (2, 4): Text(-0.6257727960585312, -0.4183191482635309, '1.5')}"
      ]
     },
     "execution_count": 73,
     "metadata": {},
     "output_type": "execute_result"
    },
    {
     "data": {
      "image/png": "[encoded data removed]",
      "text/plain": [
       "<Figure size 432x288 with 1 Axes>"
      ]
     },
     "metadata": {},
     "output_type": "display_data"
    }
   ],
   "source": [
    "pos = nx.spring_layout(G)\n",
    "nx.draw(G, pos, with_labels = True)\n",
    "labels = nx.get_edge_attributes(G, 'weight')\n",
    "nx.draw_networkx_edge_labels(G, pos, edge_labels = labels, font_size = 18)"
   ]
  },
  {
   "cell_type": "code",
   "execution_count": null,
   "id": "e10d0833",
   "metadata": {},
   "outputs": [],
   "source": [
    "#https://dreampuf.github.io/GraphvizOnline\n",
    "graph = nx.drawing.nx_pydot.read_dot (r'test.dot')\n",
    "adj_matrix = nx.adjacency_matrix(graph)\n",
    "dense_matrix = adj_matrix.todense()"
   ]
  },
  {
   "cell_type": "code",
   "execution_count": null,
   "id": "0d27eaa8",
   "metadata": {},
   "outputs": [
    {
     "data": {
      "image/png": "[encoded data removed]",
      "text/plain": [
       "<Figure size 432x288 with 1 Axes>"
      ]
     },
     "metadata": {},
     "output_type": "display_data"
    }
   ],
   "source": [
    "nx.draw(graph, with_labels = True)"
   ]
  },
  {
   "cell_type": "code",
   "execution_count": null,
   "id": "9161e587",
   "metadata": {},
   "outputs": [],
   "source": [
    "from graphviz import Source"
   ]
  },
  {
   "cell_type": "code",
   "execution_count": null,
   "id": "2c2339be",
   "metadata": {},
   "outputs": [
    {
     "data": {
      "image/svg+xml": [
       "<?xml version=\"1.0\" encoding=\"UTF-8\" standalone=\"no\"?>\r\n",
       "<!DOCTYPE svg PUBLIC \"-//W3C//DTD SVG 1.1//EN\"\r\n",
       " \"http://www.w3.org/Graphics/SVG/1.1/DTD/svg11.dtd\">\r\n",
       "<!-- Generated by graphviz version 2.38.0 (20140413.2041)\r\n",
       " -->\r\n",
       "<!-- Title: G Pages: 1 -->\r\n",
       "<svg width=\"224pt\" height=\"408pt\"\r\n",
       " viewBox=\"0.00 0.00 224.00 408.00\" xmlns=\"http://www.w3.org/2000/svg\" xmlns:xlink=\"http://www.w3.org/1999/xlink\">\r\n",
       "<g id=\"graph0\" class=\"graph\" transform=\"scale(1 1) rotate(0) translate(4 404)\">\r\n",
       "<title>G</title>\r\n",
       "<polygon fill=\"white\" stroke=\"none\" points=\"-4,4 -4,-404 220,-404 220,4 -4,4\"/>\r\n",
       "<g id=\"clust1\" class=\"cluster\"><title>cluster_0</title>\r\n",
       "<polygon fill=\"lightgrey\" stroke=\"lightgrey\" points=\"8,-65 8,-356 98,-356 98,-65 8,-65\"/>\r\n",
       "<text text-anchor=\"middle\" x=\"53\" y=\"-340.8\" font-family=\"Times New Roman,serif\" font-size=\"14.00\">process #1</text>\r\n",
       "</g>\r\n",
       "<g id=\"clust2\" class=\"cluster\"><title>cluster_1</title>\r\n",
       "<polygon fill=\"none\" stroke=\"blue\" points=\"129,-65 129,-356 208,-356 208,-65 129,-65\"/>\r\n",
       "<text text-anchor=\"middle\" x=\"168.5\" y=\"-340.8\" font-family=\"Times New Roman,serif\" font-size=\"14.00\">process #2</text>\r\n",
       "</g>\r\n",
       "<!-- a0 -->\r\n",
       "<g id=\"node1\" class=\"node\"><title>a0</title>\r\n",
       "<ellipse fill=\"white\" stroke=\"white\" cx=\"63\" cy=\"-307\" rx=\"27\" ry=\"18\"/>\r\n",
       "<text text-anchor=\"middle\" x=\"63\" y=\"-303.3\" font-family=\"Times New Roman,serif\" font-size=\"14.00\">a0</text>\r\n",
       "</g>\r\n",
       "<!-- a1 -->\r\n",
       "<g id=\"node2\" class=\"node\"><title>a1</title>\r\n",
       "<ellipse fill=\"white\" stroke=\"white\" cx=\"63\" cy=\"-235\" rx=\"27\" ry=\"18\"/>\r\n",
       "<text text-anchor=\"middle\" x=\"63\" y=\"-231.3\" font-family=\"Times New Roman,serif\" font-size=\"14.00\">a1</text>\r\n",
       "</g>\r\n",
       "<!-- a0&#45;&gt;a1 -->\r\n",
       "<g id=\"edge1\" class=\"edge\"><title>a0&#45;&gt;a1</title>\r\n",
       "<path fill=\"none\" stroke=\"black\" d=\"M63,-288.697C63,-280.983 63,-271.712 63,-263.112\"/>\r\n",
       "<polygon fill=\"black\" stroke=\"black\" points=\"66.5001,-263.104 63,-253.104 59.5001,-263.104 66.5001,-263.104\"/>\r\n",
       "</g>\r\n",
       "<!-- a2 -->\r\n",
       "<g id=\"node3\" class=\"node\"><title>a2</title>\r\n",
       "<ellipse fill=\"white\" stroke=\"white\" cx=\"63\" cy=\"-163\" rx=\"27\" ry=\"18\"/>\r\n",
       "<text text-anchor=\"middle\" x=\"63\" y=\"-159.3\" font-family=\"Times New Roman,serif\" font-size=\"14.00\">a2</text>\r\n",
       "</g>\r\n",
       "<!-- a1&#45;&gt;a2 -->\r\n",
       "<g id=\"edge2\" class=\"edge\"><title>a1&#45;&gt;a2</title>\r\n",
       "<path fill=\"none\" stroke=\"black\" d=\"M63,-216.697C63,-208.983 63,-199.712 63,-191.112\"/>\r\n",
       "<polygon fill=\"black\" stroke=\"black\" points=\"66.5001,-191.104 63,-181.104 59.5001,-191.104 66.5001,-191.104\"/>\r\n",
       "</g>\r\n",
       "<!-- b3 -->\r\n",
       "<g id=\"node8\" class=\"node\"><title>b3</title>\r\n",
       "<ellipse fill=\"lightgrey\" stroke=\"black\" cx=\"164\" cy=\"-91\" rx=\"27\" ry=\"18\"/>\r\n",
       "<text text-anchor=\"middle\" x=\"164\" y=\"-87.3\" font-family=\"Times New Roman,serif\" font-size=\"14.00\">b3</text>\r\n",
       "</g>\r\n",
       "<!-- a1&#45;&gt;b3 -->\r\n",
       "<g id=\"edge9\" class=\"edge\"><title>a1&#45;&gt;b3</title>\r\n",
       "<path fill=\"none\" stroke=\"black\" d=\"M74.001,-218.533C91.6079,-193.779 126.245,-145.081 147.038,-115.847\"/>\r\n",
       "<polygon fill=\"black\" stroke=\"black\" points=\"150.069,-117.625 153.013,-107.448 144.364,-113.568 150.069,-117.625\"/>\r\n",
       "</g>\r\n",
       "<!-- a3 -->\r\n",
       "<g id=\"node4\" class=\"node\"><title>a3</title>\r\n",
       "<ellipse fill=\"white\" stroke=\"white\" cx=\"63\" cy=\"-91\" rx=\"27\" ry=\"18\"/>\r\n",
       "<text text-anchor=\"middle\" x=\"63\" y=\"-87.3\" font-family=\"Times New Roman,serif\" font-size=\"14.00\">a3</text>\r\n",
       "</g>\r\n",
       "<!-- a2&#45;&gt;a3 -->\r\n",
       "<g id=\"edge3\" class=\"edge\"><title>a2&#45;&gt;a3</title>\r\n",
       "<path fill=\"none\" stroke=\"black\" d=\"M63,-144.697C63,-136.983 63,-127.712 63,-119.112\"/>\r\n",
       "<polygon fill=\"black\" stroke=\"black\" points=\"66.5001,-119.104 63,-109.104 59.5001,-119.104 66.5001,-119.104\"/>\r\n",
       "</g>\r\n",
       "<!-- a3&#45;&gt;a0 -->\r\n",
       "<g id=\"edge11\" class=\"edge\"><title>a3&#45;&gt;a0</title>\r\n",
       "<path fill=\"none\" stroke=\"black\" d=\"M49.2496,-106.931C41.0392,-116.9 31.381,-130.753 27,-145 12.8916,-190.88 12.8916,-207.12 27,-253 30.2858,-263.685 36.5399,-274.149 42.9254,-282.919\"/>\r\n",
       "<polygon fill=\"black\" stroke=\"black\" points=\"40.354,-285.314 49.2496,-291.069 45.8844,-281.023 40.354,-285.314\"/>\r\n",
       "</g>\r\n",
       "<!-- end -->\r\n",
       "<g id=\"node10\" class=\"node\"><title>end</title>\r\n",
       "<polygon fill=\"none\" stroke=\"black\" points=\"131.5,-37 94.5,-37 94.5,-0 131.5,-0 131.5,-37\"/>\r\n",
       "<polyline fill=\"none\" stroke=\"black\" points=\"106.5,-37 94.5,-25 \"/>\r\n",
       "<polyline fill=\"none\" stroke=\"black\" points=\"94.5,-12 106.5,-0 \"/>\r\n",
       "<polyline fill=\"none\" stroke=\"black\" points=\"119.5,-0 131.5,-12 \"/>\r\n",
       "<polyline fill=\"none\" stroke=\"black\" points=\"131.5,-25 119.5,-37 \"/>\r\n",
       "<text text-anchor=\"middle\" x=\"113\" y=\"-14.8\" font-family=\"Times New Roman,serif\" font-size=\"14.00\">end</text>\r\n",
       "</g>\r\n",
       "<!-- a3&#45;&gt;end -->\r\n",
       "<g id=\"edge12\" class=\"edge\"><title>a3&#45;&gt;end</title>\r\n",
       "<path fill=\"none\" stroke=\"black\" d=\"M74.0966,-74.3538C80.1492,-65.8197 87.7959,-55.0378 94.7049,-45.2961\"/>\r\n",
       "<polygon fill=\"black\" stroke=\"black\" points=\"97.5978,-47.2672 100.528,-37.0856 91.888,-43.2177 97.5978,-47.2672\"/>\r\n",
       "</g>\r\n",
       "<!-- b0 -->\r\n",
       "<g id=\"node5\" class=\"node\"><title>b0</title>\r\n",
       "<ellipse fill=\"lightgrey\" stroke=\"black\" cx=\"168\" cy=\"-307\" rx=\"27\" ry=\"18\"/>\r\n",
       "<text text-anchor=\"middle\" x=\"168\" y=\"-303.3\" font-family=\"Times New Roman,serif\" font-size=\"14.00\">b0</text>\r\n",
       "</g>\r\n",
       "<!-- b1 -->\r\n",
       "<g id=\"node6\" class=\"node\"><title>b1</title>\r\n",
       "<ellipse fill=\"lightgrey\" stroke=\"black\" cx=\"170\" cy=\"-235\" rx=\"27\" ry=\"18\"/>\r\n",
       "<text text-anchor=\"middle\" x=\"170\" y=\"-231.3\" font-family=\"Times New Roman,serif\" font-size=\"14.00\">b1</text>\r\n",
       "</g>\r\n",
       "<!-- b0&#45;&gt;b1 -->\r\n",
       "<g id=\"edge4\" class=\"edge\"><title>b0&#45;&gt;b1</title>\r\n",
       "<path fill=\"none\" stroke=\"black\" d=\"M168.494,-288.697C168.715,-280.983 168.98,-271.712 169.225,-263.112\"/>\r\n",
       "<polygon fill=\"black\" stroke=\"black\" points=\"172.724,-263.2 169.511,-253.104 165.727,-263 172.724,-263.2\"/>\r\n",
       "</g>\r\n",
       "<!-- b2 -->\r\n",
       "<g id=\"node7\" class=\"node\"><title>b2</title>\r\n",
       "<ellipse fill=\"lightgrey\" stroke=\"black\" cx=\"173\" cy=\"-163\" rx=\"27\" ry=\"18\"/>\r\n",
       "<text text-anchor=\"middle\" x=\"173\" y=\"-159.3\" font-family=\"Times New Roman,serif\" font-size=\"14.00\">b2</text>\r\n",
       "</g>\r\n",
       "<!-- b1&#45;&gt;b2 -->\r\n",
       "<g id=\"edge5\" class=\"edge\"><title>b1&#45;&gt;b2</title>\r\n",
       "<path fill=\"none\" stroke=\"black\" d=\"M170.742,-216.697C171.072,-208.983 171.469,-199.712 171.838,-191.112\"/>\r\n",
       "<polygon fill=\"black\" stroke=\"black\" points=\"175.335,-191.245 172.267,-181.104 168.342,-190.945 175.335,-191.245\"/>\r\n",
       "</g>\r\n",
       "<!-- b2&#45;&gt;a3 -->\r\n",
       "<g id=\"edge10\" class=\"edge\"><title>b2&#45;&gt;a3</title>\r\n",
       "<path fill=\"none\" stroke=\"black\" d=\"M153.839,-149.807C136.331,-138.665 110.241,-122.062 90.5068,-109.504\"/>\r\n",
       "<polygon fill=\"black\" stroke=\"black\" points=\"92.2567,-106.469 81.941,-104.053 88.4985,-112.375 92.2567,-106.469\"/>\r\n",
       "</g>\r\n",
       "<!-- b2&#45;&gt;b3 -->\r\n",
       "<g id=\"edge6\" class=\"edge\"><title>b2&#45;&gt;b3</title>\r\n",
       "<path fill=\"none\" stroke=\"black\" d=\"M170.821,-145.055C169.83,-137.346 168.632,-128.027 167.518,-119.364\"/>\r\n",
       "<polygon fill=\"black\" stroke=\"black\" points=\"170.968,-118.747 166.221,-109.275 164.025,-119.64 170.968,-118.747\"/>\r\n",
       "</g>\r\n",
       "<!-- b3&#45;&gt;end -->\r\n",
       "<g id=\"edge13\" class=\"edge\"><title>b3&#45;&gt;end</title>\r\n",
       "<path fill=\"none\" stroke=\"black\" d=\"M152.681,-74.3538C146.508,-65.8197 138.708,-55.0378 131.661,-45.2961\"/>\r\n",
       "<polygon fill=\"black\" stroke=\"black\" points=\"134.419,-43.1364 125.721,-37.0856 128.747,-47.2393 134.419,-43.1364\"/>\r\n",
       "</g>\r\n",
       "<!-- start -->\r\n",
       "<g id=\"node9\" class=\"node\"><title>start</title>\r\n",
       "<polygon fill=\"none\" stroke=\"black\" points=\"115,-400 77.1282,-382 115,-364 152.872,-382 115,-400\"/>\r\n",
       "<polyline fill=\"none\" stroke=\"black\" points=\"87.9663,-387.151 87.9663,-376.849 \"/>\r\n",
       "<polyline fill=\"none\" stroke=\"black\" points=\"104.162,-369.151 125.838,-369.151 \"/>\r\n",
       "<polyline fill=\"none\" stroke=\"black\" points=\"142.034,-376.849 142.034,-387.151 \"/>\r\n",
       "<polyline fill=\"none\" stroke=\"black\" points=\"125.838,-394.849 104.162,-394.849 \"/>\r\n",
       "<text text-anchor=\"middle\" x=\"115\" y=\"-378.3\" font-family=\"Times New Roman,serif\" font-size=\"14.00\">start</text>\r\n",
       "</g>\r\n",
       "<!-- start&#45;&gt;a0 -->\r\n",
       "<g id=\"edge7\" class=\"edge\"><title>start&#45;&gt;a0</title>\r\n",
       "<path fill=\"none\" stroke=\"black\" d=\"M105.942,-368.284C98.8241,-358.292 88.7051,-344.086 80.0777,-331.974\"/>\r\n",
       "<polygon fill=\"black\" stroke=\"black\" points=\"82.776,-329.73 74.1234,-323.616 77.0746,-333.791 82.776,-329.73\"/>\r\n",
       "</g>\r\n",
       "<!-- start&#45;&gt;b0 -->\r\n",
       "<g id=\"edge8\" class=\"edge\"><title>start&#45;&gt;b0</title>\r\n",
       "<path fill=\"none\" stroke=\"black\" d=\"M124.232,-368.284C131.487,-358.292 141.801,-344.086 150.594,-331.974\"/>\r\n",
       "<polygon fill=\"black\" stroke=\"black\" points=\"153.62,-333.764 156.663,-323.616 147.955,-329.651 153.62,-333.764\"/>\r\n",
       "</g>\r\n",
       "</g>\r\n",
       "</svg>\r\n"
      ],
      "text/plain": [
       "<graphviz.files.Source at 0x16db110f490>"
      ]
     },
     "execution_count": 77,
     "metadata": {},
     "output_type": "execute_result"
    }
   ],
   "source": [
    "import graphviz\n",
    "\n",
    "with open(\"test.dot\") as f:\n",
    "    dot_graph = f.read()\n",
    "\n",
    "graphviz.Source(dot_graph)"
   ]
  }
 ],
 "metadata": {
  "kernelspec": {
   "display_name": "Python 3 (ipykernel)",
   "language": "python",
   "name": "python3"
  },
  "language_info": {
   "codemirror_mode": {
    "name": "ipython",
    "version": 3
   },
   "file_extension": ".py",
   "mimetype": "text/x-python",
   "name": "python",
   "nbconvert_exporter": "python",
   "pygments_lexer": "ipython3",
   "version": "3.10.11"
  }
 },
 "nbformat": 4,
 "nbformat_minor": 5
}
